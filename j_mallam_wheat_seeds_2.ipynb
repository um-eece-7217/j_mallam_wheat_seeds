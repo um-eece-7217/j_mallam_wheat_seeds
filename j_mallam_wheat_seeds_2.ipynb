{
  "nbformat": 4,
  "nbformat_minor": 0,
  "metadata": {
    "colab": {
      "provenance": []
    },
    "kernelspec": {
      "name": "python3",
      "display_name": "Python 3"
    },
    "language_info": {
      "name": "python"
    }
  },
  "cells": [
    {
      "cell_type": "code",
      "execution_count": 263,
      "metadata": {
        "id": "-KNxR3Ut9cke"
      },
      "outputs": [],
      "source": [
        "import pandas as pd\n",
        "import random\n",
        "import numpy as np\n",
        "from sklearn.linear_model import LogisticRegression\n",
        "import matplotlib.pyplot as plt\n",
        "from matplotlib.colors import ListedColormap\n",
        "from sklearn.model_selection import train_test_split\n",
        "from sklearn.preprocessing import StandardScaler"
      ]
    },
    {
      "cell_type": "code",
      "source": [
        "from google.colab import drive\n",
        "drive.mount ('/content/drive')\n",
        "\n"
      ],
      "metadata": {
        "colab": {
          "base_uri": "https://localhost:8080/"
        },
        "id": "qI4ZCnGrq51P",
        "outputId": "80260bd6-7d35-4a65-8d66-246ee507f87e"
      },
      "execution_count": 242,
      "outputs": [
        {
          "output_type": "stream",
          "name": "stdout",
          "text": [
            "Drive already mounted at /content/drive; to attempt to forcibly remount, call drive.mount(\"/content/drive\", force_remount=True).\n"
          ]
        }
      ]
    },
    {
      "cell_type": "code",
      "source": [
        "# Load the wheat seeds dataset into a pandas dataframe\n",
        "\n",
        "path = '/content/seeds_dataset.txt'"
      ],
      "metadata": {
        "id": "Sy_j3GWY9hrM"
      },
      "execution_count": 264,
      "outputs": []
    },
    {
      "cell_type": "code",
      "source": [
        "header= [\"Area\",\"Perimeter\",\"Compactness\",\"Length of kernel\",\"Width of kernel\",\"Asymmetry coefficient\",\"Groove\"]\n",
        "df=pd.read_csv(path, delimiter=r'[\\t]+', names=header+['Class'])\n",
        "df.head()"
      ],
      "metadata": {
        "colab": {
          "base_uri": "https://localhost:8080/",
          "height": 261
        },
        "id": "gE3hbn7kSeg3",
        "outputId": "71c98218-05bb-47cc-ce98-8af40cf715a5"
      },
      "execution_count": 265,
      "outputs": [
        {
          "output_type": "stream",
          "name": "stderr",
          "text": [
            "/usr/local/lib/python3.8/dist-packages/pandas/util/_decorators.py:311: ParserWarning: Falling back to the 'python' engine because the 'c' engine does not support regex separators (separators > 1 char and different from '\\s+' are interpreted as regex); you can avoid this warning by specifying engine='python'.\n",
            "  return func(*args, **kwargs)\n"
          ]
        },
        {
          "output_type": "execute_result",
          "data": {
            "text/plain": [
              "    Area  Perimeter  Compactness  Length of kernel  Width of kernel  \\\n",
              "0  15.26      14.84       0.8710             5.763            3.312   \n",
              "1  14.88      14.57       0.8811             5.554            3.333   \n",
              "2  14.29      14.09       0.9050             5.291            3.337   \n",
              "3  13.84      13.94       0.8955             5.324            3.379   \n",
              "4  16.14      14.99       0.9034             5.658            3.562   \n",
              "\n",
              "   Asymmetry coefficient  Groove  Class  \n",
              "0                  2.221   5.220      1  \n",
              "1                  1.018   4.956      1  \n",
              "2                  2.699   4.825      1  \n",
              "3                  2.259   4.805      1  \n",
              "4                  1.355   5.175      1  "
            ],
            "text/html": [
              "\n",
              "  <div id=\"df-54733ad5-f0ed-4bea-825a-43afa32f789e\">\n",
              "    <div class=\"colab-df-container\">\n",
              "      <div>\n",
              "<style scoped>\n",
              "    .dataframe tbody tr th:only-of-type {\n",
              "        vertical-align: middle;\n",
              "    }\n",
              "\n",
              "    .dataframe tbody tr th {\n",
              "        vertical-align: top;\n",
              "    }\n",
              "\n",
              "    .dataframe thead th {\n",
              "        text-align: right;\n",
              "    }\n",
              "</style>\n",
              "<table border=\"1\" class=\"dataframe\">\n",
              "  <thead>\n",
              "    <tr style=\"text-align: right;\">\n",
              "      <th></th>\n",
              "      <th>Area</th>\n",
              "      <th>Perimeter</th>\n",
              "      <th>Compactness</th>\n",
              "      <th>Length of kernel</th>\n",
              "      <th>Width of kernel</th>\n",
              "      <th>Asymmetry coefficient</th>\n",
              "      <th>Groove</th>\n",
              "      <th>Class</th>\n",
              "    </tr>\n",
              "  </thead>\n",
              "  <tbody>\n",
              "    <tr>\n",
              "      <th>0</th>\n",
              "      <td>15.26</td>\n",
              "      <td>14.84</td>\n",
              "      <td>0.8710</td>\n",
              "      <td>5.763</td>\n",
              "      <td>3.312</td>\n",
              "      <td>2.221</td>\n",
              "      <td>5.220</td>\n",
              "      <td>1</td>\n",
              "    </tr>\n",
              "    <tr>\n",
              "      <th>1</th>\n",
              "      <td>14.88</td>\n",
              "      <td>14.57</td>\n",
              "      <td>0.8811</td>\n",
              "      <td>5.554</td>\n",
              "      <td>3.333</td>\n",
              "      <td>1.018</td>\n",
              "      <td>4.956</td>\n",
              "      <td>1</td>\n",
              "    </tr>\n",
              "    <tr>\n",
              "      <th>2</th>\n",
              "      <td>14.29</td>\n",
              "      <td>14.09</td>\n",
              "      <td>0.9050</td>\n",
              "      <td>5.291</td>\n",
              "      <td>3.337</td>\n",
              "      <td>2.699</td>\n",
              "      <td>4.825</td>\n",
              "      <td>1</td>\n",
              "    </tr>\n",
              "    <tr>\n",
              "      <th>3</th>\n",
              "      <td>13.84</td>\n",
              "      <td>13.94</td>\n",
              "      <td>0.8955</td>\n",
              "      <td>5.324</td>\n",
              "      <td>3.379</td>\n",
              "      <td>2.259</td>\n",
              "      <td>4.805</td>\n",
              "      <td>1</td>\n",
              "    </tr>\n",
              "    <tr>\n",
              "      <th>4</th>\n",
              "      <td>16.14</td>\n",
              "      <td>14.99</td>\n",
              "      <td>0.9034</td>\n",
              "      <td>5.658</td>\n",
              "      <td>3.562</td>\n",
              "      <td>1.355</td>\n",
              "      <td>5.175</td>\n",
              "      <td>1</td>\n",
              "    </tr>\n",
              "  </tbody>\n",
              "</table>\n",
              "</div>\n",
              "      <button class=\"colab-df-convert\" onclick=\"convertToInteractive('df-54733ad5-f0ed-4bea-825a-43afa32f789e')\"\n",
              "              title=\"Convert this dataframe to an interactive table.\"\n",
              "              style=\"display:none;\">\n",
              "        \n",
              "  <svg xmlns=\"http://www.w3.org/2000/svg\" height=\"24px\"viewBox=\"0 0 24 24\"\n",
              "       width=\"24px\">\n",
              "    <path d=\"M0 0h24v24H0V0z\" fill=\"none\"/>\n",
              "    <path d=\"M18.56 5.44l.94 2.06.94-2.06 2.06-.94-2.06-.94-.94-2.06-.94 2.06-2.06.94zm-11 1L8.5 8.5l.94-2.06 2.06-.94-2.06-.94L8.5 2.5l-.94 2.06-2.06.94zm10 10l.94 2.06.94-2.06 2.06-.94-2.06-.94-.94-2.06-.94 2.06-2.06.94z\"/><path d=\"M17.41 7.96l-1.37-1.37c-.4-.4-.92-.59-1.43-.59-.52 0-1.04.2-1.43.59L10.3 9.45l-7.72 7.72c-.78.78-.78 2.05 0 2.83L4 21.41c.39.39.9.59 1.41.59.51 0 1.02-.2 1.41-.59l7.78-7.78 2.81-2.81c.8-.78.8-2.07 0-2.86zM5.41 20L4 18.59l7.72-7.72 1.47 1.35L5.41 20z\"/>\n",
              "  </svg>\n",
              "      </button>\n",
              "      \n",
              "  <style>\n",
              "    .colab-df-container {\n",
              "      display:flex;\n",
              "      flex-wrap:wrap;\n",
              "      gap: 12px;\n",
              "    }\n",
              "\n",
              "    .colab-df-convert {\n",
              "      background-color: #E8F0FE;\n",
              "      border: none;\n",
              "      border-radius: 50%;\n",
              "      cursor: pointer;\n",
              "      display: none;\n",
              "      fill: #1967D2;\n",
              "      height: 32px;\n",
              "      padding: 0 0 0 0;\n",
              "      width: 32px;\n",
              "    }\n",
              "\n",
              "    .colab-df-convert:hover {\n",
              "      background-color: #E2EBFA;\n",
              "      box-shadow: 0px 1px 2px rgba(60, 64, 67, 0.3), 0px 1px 3px 1px rgba(60, 64, 67, 0.15);\n",
              "      fill: #174EA6;\n",
              "    }\n",
              "\n",
              "    [theme=dark] .colab-df-convert {\n",
              "      background-color: #3B4455;\n",
              "      fill: #D2E3FC;\n",
              "    }\n",
              "\n",
              "    [theme=dark] .colab-df-convert:hover {\n",
              "      background-color: #434B5C;\n",
              "      box-shadow: 0px 1px 3px 1px rgba(0, 0, 0, 0.15);\n",
              "      filter: drop-shadow(0px 1px 2px rgba(0, 0, 0, 0.3));\n",
              "      fill: #FFFFFF;\n",
              "    }\n",
              "  </style>\n",
              "\n",
              "      <script>\n",
              "        const buttonEl =\n",
              "          document.querySelector('#df-54733ad5-f0ed-4bea-825a-43afa32f789e button.colab-df-convert');\n",
              "        buttonEl.style.display =\n",
              "          google.colab.kernel.accessAllowed ? 'block' : 'none';\n",
              "\n",
              "        async function convertToInteractive(key) {\n",
              "          const element = document.querySelector('#df-54733ad5-f0ed-4bea-825a-43afa32f789e');\n",
              "          const dataTable =\n",
              "            await google.colab.kernel.invokeFunction('convertToInteractive',\n",
              "                                                     [key], {});\n",
              "          if (!dataTable) return;\n",
              "\n",
              "          const docLinkHtml = 'Like what you see? Visit the ' +\n",
              "            '<a target=\"_blank\" href=https://colab.research.google.com/notebooks/data_table.ipynb>data table notebook</a>'\n",
              "            + ' to learn more about interactive tables.';\n",
              "          element.innerHTML = '';\n",
              "          dataTable['output_type'] = 'display_data';\n",
              "          await google.colab.output.renderOutput(dataTable, element);\n",
              "          const docLink = document.createElement('div');\n",
              "          docLink.innerHTML = docLinkHtml;\n",
              "          element.appendChild(docLink);\n",
              "        }\n",
              "      </script>\n",
              "    </div>\n",
              "  </div>\n",
              "  "
            ]
          },
          "metadata": {},
          "execution_count": 265
        }
      ]
    },
    {
      "cell_type": "code",
      "source": [
        "from sklearn.impute import SimpleImputer\n",
        "import numpy as np\n",
        "imr = SimpleImputer(missing_values=np.nan, strategy='mean')\n",
        "imr = imr.fit(df.values)\n",
        "imputed_data = imr.transform(df.values)\n",
        "imputed_data"
      ],
      "metadata": {
        "colab": {
          "base_uri": "https://localhost:8080/"
        },
        "id": "UxYNFRc8IxXG",
        "outputId": "a64513d3-80d4-4b94-e74b-3b3c041fd5a7"
      },
      "execution_count": 245,
      "outputs": [
        {
          "output_type": "execute_result",
          "data": {
            "text/plain": [
              "array([[15.26  , 14.84  ,  0.871 , ...,  2.221 ,  5.22  ,  1.    ],\n",
              "       [14.88  , 14.57  ,  0.8811, ...,  1.018 ,  4.956 ,  1.    ],\n",
              "       [14.29  , 14.09  ,  0.905 , ...,  2.699 ,  4.825 ,  1.    ],\n",
              "       ...,\n",
              "       [13.2   , 13.66  ,  0.8883, ...,  8.315 ,  5.056 ,  3.    ],\n",
              "       [11.84  , 13.21  ,  0.8521, ...,  3.598 ,  5.044 ,  3.    ],\n",
              "       [12.3   , 13.34  ,  0.8684, ...,  5.637 ,  5.063 ,  3.    ]])"
            ]
          },
          "metadata": {},
          "execution_count": 245
        }
      ]
    },
    {
      "cell_type": "code",
      "source": [
        "cell_data = str(df.iloc[0, 2])\n",
        "display(cell_data)"
      ],
      "metadata": {
        "colab": {
          "base_uri": "https://localhost:8080/",
          "height": 35
        },
        "id": "PpGlPmO0AGma",
        "outputId": "90475d2f-9f05-4bf1-d0a4-e554f4a12016"
      },
      "execution_count": 246,
      "outputs": [
        {
          "output_type": "display_data",
          "data": {
            "text/plain": [
              "'0.871'"
            ],
            "application/vnd.google.colaboratory.intrinsic+json": {
              "type": "string"
            }
          },
          "metadata": {}
        }
      ]
    },
    {
      "cell_type": "code",
      "source": [
        "def plot_decision_regions(X, y, classifier, test_idx=None, resolution=0.02):\n",
        "    \n",
        "    # X = X.to_numpy()\n",
        "    # y = y.to_numpy()\n",
        "    # setup marker generator and color map\n",
        "    markers = ('o', 's', '^', 'v', '<')\n",
        "    colors = ('red', 'blue', 'lightgreen', 'gray', 'cyan')\n",
        "    cmap = ListedColormap(colors[:len(np.unique(y))])\n",
        "\n",
        "    # plot the decision surface\n",
        "    x1_min, x1_max = X[:, 0].min() - 1, X[:, 0].max() + 1\n",
        "    x2_min, x2_max = X[:, 1].min() - 1, X[:, 1].max() + 1\n",
        "    xx1, xx2 = np.meshgrid(np.arange(x1_min, x1_max, resolution),\n",
        "                           np.arange(x2_min, x2_max, resolution))\n",
        "    lab = classifier.predict(np.array([xx1.ravel(), xx2.ravel()]).T)\n",
        "    lab = lab.reshape(xx1.shape)\n",
        "    plt.contourf(xx1, xx2, lab, alpha=0.3, cmap=cmap)\n",
        "    plt.xlim(xx1.min(), xx1.max())\n",
        "    plt.ylim(xx2.min(), xx2.max())\n",
        "\n",
        "    # plot class examples\n",
        "    for idx, cl in enumerate(np.unique(y)):\n",
        "        plt.scatter(x=X[y == cl, 0], \n",
        "                    y=X[y == cl, 1],\n",
        "                    alpha=0.8, \n",
        "                    c=colors[idx],\n",
        "                    marker=markers[idx], \n",
        "                    label=f'Class {cl}', \n",
        "                    edgecolor='black')\n",
        "    # highlight test examples\n",
        "    if test_idx:\n",
        "    # plot all examples\n",
        "        X_test, y_test = X[test_idx, :], y[test_idx]\n",
        "\n",
        "        plt.scatter(X_test[:, 0],\n",
        "                    X_test[:, 1],\n",
        "                    c='none',\n",
        "                    edgecolor='black',\n",
        "                    alpha=1.0,\n",
        "                    linewidth=1,\n",
        "                    marker='o',\n",
        "                    s=100, \n",
        "                    label='Test set')"
      ],
      "metadata": {
        "id": "kYbFWD7-I9IB"
      },
      "execution_count": 247,
      "outputs": []
    },
    {
      "cell_type": "code",
      "source": [
        "# Set the percentage of features to randomize\n",
        "percentage_to_randomize = 30\n",
        "\n",
        "# Randomly select the cells to be randomized\n",
        "n_features_to_randomize = int(df.shape[1] * percentage_to_randomize / 100)\n",
        "features_to_randomize = np.random.choice(df.columns, n_features_to_randomize, replace=False)\n",
        "\n",
        "# Randomize the selected cells\n",
        "for feature in features_to_randomize:\n",
        "    n_cells_to_randomize = int(df.shape[0] * percentage_to_randomize / 100)\n",
        "    cells_to_randomize = np.random.choice(df.index, n_cells_to_randomize, replace=False)\n",
        "    df.loc[cells_to_randomize, feature] = np.random.rand(n_cells_to_randomize)"
      ],
      "metadata": {
        "id": "KfVJA0aBMk6P"
      },
      "execution_count": 248,
      "outputs": []
    },
    {
      "cell_type": "code",
      "source": [
        "X = df.iloc[:, [2,4]].values\n",
        "X=X.astype('float64')\n",
        "#print(X)\n",
        "y = df.iloc[:, 7].values\n",
        "y=y.astype('int64')\n",
        "#print (y)\n",
        "print('Class labels:', np.unique(y))"
      ],
      "metadata": {
        "colab": {
          "base_uri": "https://localhost:8080/"
        },
        "id": "n421nszgQ0XU",
        "outputId": "f38f0359-584c-4c25-c80b-fa464b5473ad"
      },
      "execution_count": 249,
      "outputs": [
        {
          "output_type": "stream",
          "name": "stdout",
          "text": [
            "Class labels: [0 1 2 3]\n"
          ]
        }
      ]
    },
    {
      "cell_type": "code",
      "source": [
        "X_train, X_test, y_train, y_test = train_test_split(X, y, test_size=0.3, random_state=1)"
      ],
      "metadata": {
        "id": "HIq4bkMBQ-AI"
      },
      "execution_count": 250,
      "outputs": []
    },
    {
      "cell_type": "code",
      "source": [
        "from sklearn.preprocessing import StandardScaler\n",
        "sc = StandardScaler()\n",
        "sc.fit(X_train)\n",
        "X_train_std = sc.transform(X_train)\n",
        "X_test_std = sc.transform(X_test)"
      ],
      "metadata": {
        "id": "cnRGAvn4QU41"
      },
      "execution_count": 251,
      "outputs": []
    },
    {
      "cell_type": "code",
      "source": [
        "# Train a Logistic Regression model on the randomized dataset\n",
        "clf = LogisticRegression()\n",
        "clf.fit(X_train, y_train)"
      ],
      "metadata": {
        "colab": {
          "base_uri": "https://localhost:8080/"
        },
        "id": "ap-aJpQfNP4y",
        "outputId": "d0cce91c-3293-443f-d0fc-fcc1a496477a"
      },
      "execution_count": 252,
      "outputs": [
        {
          "output_type": "execute_result",
          "data": {
            "text/plain": [
              "LogisticRegression()"
            ]
          },
          "metadata": {},
          "execution_count": 252
        }
      ]
    },
    {
      "cell_type": "code",
      "source": [
        "# Evaluate the model on the test set\n",
        "accuracy = clf.score(X_test, y_test)\n",
        "print(f\"Accuracy of Logistic Regression model trained on randomized dataset: {accuracy}\")"
      ],
      "metadata": {
        "colab": {
          "base_uri": "https://localhost:8080/"
        },
        "id": "iAnB3GhaNSMS",
        "outputId": "174dae3d-cb2d-4420-fbf9-bbde99a3c3f7"
      },
      "execution_count": 253,
      "outputs": [
        {
          "output_type": "stream",
          "name": "stdout",
          "text": [
            "Accuracy of Logistic Regression model trained on randomized dataset: 0.49206349206349204\n"
          ]
        }
      ]
    },
    {
      "cell_type": "code",
      "source": [
        "log_reg = LogisticRegression()\n",
        "log_reg.fit(X_train,y_train)\n",
        "y_pred= log_reg.predict(X_test)\n",
        "print('predicted:',y_pred)\n",
        "print('true class:', np.array(y_test))\n",
        "plot_decision_regions(X, y, classifier=log_reg)\n",
        "plt.xlabel(df.columns[3])\n",
        "plt.ylabel(df.columns[6])\n",
        "plt.legend(loc='upper left')\n",
        "plt.tight_layout()\n",
        "plt.show()"
      ],
      "metadata": {
        "colab": {
          "base_uri": "https://localhost:8080/",
          "height": 366
        },
        "id": "kGMKk6YiJRnL",
        "outputId": "b11ee822-e632-47ce-ca37-2f152ed1106d"
      },
      "execution_count": 254,
      "outputs": [
        {
          "output_type": "stream",
          "name": "stdout",
          "text": [
            "predicted: [0 3 0 3 2 2 0 3 3 3 0 2 0 0 3 3 3 0 0 0 0 0 2 3 0 3 0 3 0 2 2 2 2 0 0 2 3\n",
            " 2 3 3 0 3 2 3 2 2 3 3 2 3 2 3 0 2 3 0 3 3 0 3 2 0 2]\n",
            "true class: [0 0 0 3 0 0 1 0 3 0 2 0 1 0 1 0 3 1 1 1 1 0 2 3 1 3 1 3 1 2 2 0 2 1 1 0 0\n",
            " 2 1 0 1 3 2 3 2 0 3 3 2 3 2 3 0 2 0 1 3 3 1 3 0 1 2]\n"
          ]
        },
        {
          "output_type": "display_data",
          "data": {
            "text/plain": [
              "<Figure size 432x288 with 1 Axes>"
            ],
            "image/png": "[encoded data removed]"
          },
          "metadata": {
            "needs_background": "light"
          }
        }
      ]
    },
    {
      "cell_type": "markdown",
      "source": [
        "Selected a learning algorithm andimputed solutions from scikit learn to compare results from the unaffected original data."
      ],
      "metadata": {
        "id": "9JF02C57wCk_"
      }
    },
    {
      "cell_type": "code",
      "source": [
        "#creating a SimpleImputer class from scikit-learn library and setting the imputation strategy to median\n",
        "imp = SimpleImputer(strategy='median')"
      ],
      "metadata": {
        "id": "VRP0oFNEpD-i"
      },
      "execution_count": 273,
      "outputs": []
    },
    {
      "cell_type": "code",
      "source": [
        "#selects a subset of columns from the dataframe\n",
        "X = df.loc[:, header]\n",
        "y = df.loc[:, 'Class'].values"
      ],
      "metadata": {
        "id": "HcAlwRZJu1KU"
      },
      "execution_count": 274,
      "outputs": []
    },
    {
      "cell_type": "code",
      "source": [
        "#splits the x and y data into training and testing sets\n",
        "X_train, X_test, y_train, y_test = train_test_split(X, y, test_size=0.3, random_state=1, stratify=y)"
      ],
      "metadata": {
        "id": "LvybhMyAuyJL"
      },
      "execution_count": 275,
      "outputs": []
    },
    {
      "cell_type": "code",
      "source": [
        "#imputes missing values in the x_train and x_test\n",
        "imp.fit(X_train)\n",
        "X_train_imputed = imp.fit_transform(X_train)\n",
        "X_test_imputed = imp.transform(X_test)"
      ],
      "metadata": {
        "id": "Ptea1aY9pD7J"
      },
      "execution_count": 276,
      "outputs": []
    },
    {
      "cell_type": "code",
      "source": [
        "#creating a dataset with 15% missing values at random locations\n",
        "n_rows, n_cols = X.shape\n",
        "n_rows, n_cols = X.shape\n",
        "n_cells = int(n_rows * n_cols * 0.15) \n",
        "indices = np.random.choice(n_rows*n_cols, n_cells, replace=False)\n",
        "row_indices = indices // n_cols\n",
        "col_indices = indices % n_cols\n",
        "X.values[row_indices, col_indices] = np.nan"
      ],
      "metadata": {
        "id": "7jIxqKszpD4l"
      },
      "execution_count": 277,
      "outputs": []
    },
    {
      "cell_type": "code",
      "source": [
        "#checking quality of data \n",
        "print(X.isna().sum())\n",
        "print(X.head(50))"
      ],
      "metadata": {
        "colab": {
          "base_uri": "https://localhost:8080/"
        },
        "id": "9xVj3wkbpD1O",
        "outputId": "a5ee9961-0307-45c4-d56e-c0e31aa50a77"
      },
      "execution_count": 278,
      "outputs": [
        {
          "output_type": "stream",
          "name": "stdout",
          "text": [
            "Area                     34\n",
            "Perimeter                23\n",
            "Compactness              30\n",
            "Length of kernel         37\n",
            "Width of kernel          27\n",
            "Asymmetry coefficient    31\n",
            "Groove                   38\n",
            "dtype: int64\n",
            "     Area  Perimeter  Compactness  Length of kernel  Width of kernel  \\\n",
            "0   15.26      14.84       0.8710             5.763            3.312   \n",
            "1   14.88      14.57       0.8811             5.554            3.333   \n",
            "2   14.29      14.09       0.9050             5.291            3.337   \n",
            "3   13.84      13.94       0.8955             5.324            3.379   \n",
            "4   16.14      14.99       0.9034             5.658            3.562   \n",
            "5   14.38      14.21       0.8951             5.386            3.312   \n",
            "6   14.69      14.49       0.8799             5.563            3.259   \n",
            "7   14.11      14.10       0.8911               NaN            3.302   \n",
            "8   16.63      15.46       0.8747             6.053              NaN   \n",
            "9   16.44      15.25       0.8880             5.884            3.505   \n",
            "10  15.26      14.85       0.8696             5.714            3.242   \n",
            "11    NaN      14.16          NaN               NaN            3.201   \n",
            "12  13.89      14.02          NaN             5.439            3.199   \n",
            "13  13.78      14.06       0.8759               NaN            3.156   \n",
            "14  13.74      14.05       0.8744             5.482            3.114   \n",
            "15  14.59      14.28       0.8993             5.351            3.333   \n",
            "16  13.99      13.83       0.9183             5.119            3.383   \n",
            "17  15.69      14.75       0.9058             5.527            3.514   \n",
            "18  14.70      14.21       0.9153               NaN            3.466   \n",
            "19    NaN        NaN          NaN             5.226            3.049   \n",
            "20  14.16        NaN       0.8584               NaN            3.129   \n",
            "21  14.11      14.26       0.8722               NaN              NaN   \n",
            "22  15.88      14.90       0.8988             5.618            3.507   \n",
            "23  12.08      13.23       0.8664             5.099            2.936   \n",
            "24    NaN      14.76       0.8657             5.789            3.245   \n",
            "25  16.19        NaN       0.8849             5.833            3.421   \n",
            "26  13.02      13.76       0.8641               NaN            3.026   \n",
            "27    NaN        NaN       0.8564             5.395            2.956   \n",
            "28  14.11      14.18       0.8820             5.541              NaN   \n",
            "29    NaN      14.02       0.8604             5.516            3.065   \n",
            "30  13.16      13.82       0.8662               NaN            2.975   \n",
            "31  15.49        NaN       0.8724             5.757            3.371   \n",
            "32  14.09      14.41       0.8529             5.717            3.186   \n",
            "33  13.94      14.17          NaN             5.585            3.150   \n",
            "34  15.05      14.68       0.8779             5.712            3.328   \n",
            "35  16.12      15.00          NaN             5.709            3.485   \n",
            "36  16.20        NaN       0.8734             5.826            3.464   \n",
            "37  17.08      15.38       0.9079             5.832            3.683   \n",
            "38  14.80      14.52       0.8823             5.656            3.288   \n",
            "39  14.28      14.17       0.8944               NaN            3.298   \n",
            "40  13.54      13.85       0.8871               NaN            3.156   \n",
            "41    NaN      13.85       0.8852             5.351            3.158   \n",
            "42  13.16      13.55       0.9009             5.138              NaN   \n",
            "43    NaN      14.86       0.8820               NaN              NaN   \n",
            "44    NaN        NaN       0.8986             5.579            3.462   \n",
            "45    NaN      14.04       0.8794             5.376            3.155   \n",
            "46  15.36      14.76       0.8861               NaN            3.393   \n",
            "47  14.99      14.56       0.8883             5.570              NaN   \n",
            "48  14.79      14.52       0.8819               NaN            3.291   \n",
            "49  14.86      14.67       0.8676               NaN            3.258   \n",
            "\n",
            "    Asymmetry coefficient  Groove  \n",
            "0                  2.2210   5.220  \n",
            "1                  1.0180   4.956  \n",
            "2                  2.6990   4.825  \n",
            "3                  2.2590   4.805  \n",
            "4                  1.3550   5.175  \n",
            "5                  2.4620   4.956  \n",
            "6                  3.5860   5.219  \n",
            "7                  2.7000   5.000  \n",
            "8                  2.0400     NaN  \n",
            "9                  1.9690   5.533  \n",
            "10                 4.5430   5.314  \n",
            "11                 1.7170   5.001  \n",
            "12                 3.9860     NaN  \n",
            "13                 3.1360   4.872  \n",
            "14                 2.9320     NaN  \n",
            "15                 4.1850   4.781  \n",
            "16                 5.2340   4.781  \n",
            "17                 1.5990   5.046  \n",
            "18                 1.7670   4.649  \n",
            "19                 4.1020   4.914  \n",
            "20                 3.0720   5.176  \n",
            "21                 2.6880   5.219  \n",
            "22                 0.7651   5.091  \n",
            "23                 1.4150     NaN  \n",
            "24                 1.7910   5.001  \n",
            "25                 0.9030   5.307  \n",
            "26                 3.3730   4.825  \n",
            "27                    NaN   4.869  \n",
            "28                    NaN     NaN  \n",
            "29                 3.5310   5.097  \n",
            "30                 0.8551   5.056  \n",
            "31                 3.4120   5.228  \n",
            "32                 3.9200   5.299  \n",
            "33                    NaN   5.012  \n",
            "34                    NaN     NaN  \n",
            "35                 2.2700   5.443  \n",
            "36                 2.8230   5.527  \n",
            "37                 2.9560   5.484  \n",
            "38                 3.1120   5.309  \n",
            "39                 6.6850   5.001  \n",
            "40                 2.5870   5.178  \n",
            "41                 2.2490   5.176  \n",
            "42                 2.4610   4.783  \n",
            "43                 4.7110     NaN  \n",
            "44                 3.1280     NaN  \n",
            "45                 1.5600   4.961  \n",
            "46                    NaN   5.132  \n",
            "47                 2.9580   5.175  \n",
            "48                 2.7040     NaN  \n",
            "49                 2.1290   5.351  \n"
          ]
        }
      ]
    },
    {
      "cell_type": "code",
      "source": [
        "#checks the quality of the imputed data\n",
        "X_imputed = imp.fit_transform(X)\n",
        "print('Number of NaN values before imputation:\\n', np.isnan(X).sum())\n",
        "print('Number of NaN values after imputation:', np.isnan(X_imputed).sum())\n",
        "print(X_imputed[:50])"
      ],
      "metadata": {
        "colab": {
          "base_uri": "https://localhost:8080/"
        },
        "id": "CJwQugAtpDyW",
        "outputId": "5f53c994-1261-4a16-c686-038589a68d85"
      },
      "execution_count": 279,
      "outputs": [
        {
          "output_type": "stream",
          "name": "stdout",
          "text": [
            "Number of NaN values before imputation:\n",
            " Area                     34\n",
            "Perimeter                23\n",
            "Compactness              30\n",
            "Length of kernel         37\n",
            "Width of kernel          27\n",
            "Asymmetry coefficient    31\n",
            "Groove                   38\n",
            "dtype: int64\n",
            "Number of NaN values after imputation: 0\n",
            "[[15.26    14.84     0.871    5.763    3.312    2.221    5.22   ]\n",
            " [14.88    14.57     0.8811   5.554    3.333    1.018    4.956  ]\n",
            " [14.29    14.09     0.905    5.291    3.337    2.699    4.825  ]\n",
            " [13.84    13.94     0.8955   5.324    3.379    2.259    4.805  ]\n",
            " [16.14    14.99     0.9034   5.658    3.562    1.355    5.175  ]\n",
            " [14.38    14.21     0.8951   5.386    3.312    2.462    4.956  ]\n",
            " [14.69    14.49     0.8799   5.563    3.259    3.586    5.219  ]\n",
            " [14.11    14.1      0.8911   5.516    3.302    2.7      5.     ]\n",
            " [16.63    15.46     0.8747   6.053    3.259    2.04     5.226  ]\n",
            " [16.44    15.25     0.888    5.884    3.505    1.969    5.533  ]\n",
            " [15.26    14.85     0.8696   5.714    3.242    4.543    5.314  ]\n",
            " [14.375   14.16     0.87515  5.516    3.201    1.717    5.001  ]\n",
            " [13.89    14.02     0.87515  5.439    3.199    3.986    5.226  ]\n",
            " [13.78    14.06     0.8759   5.516    3.156    3.136    4.872  ]\n",
            " [13.74    14.05     0.8744   5.482    3.114    2.932    5.226  ]\n",
            " [14.59    14.28     0.8993   5.351    3.333    4.185    4.781  ]\n",
            " [13.99    13.83     0.9183   5.119    3.383    5.234    4.781  ]\n",
            " [15.69    14.75     0.9058   5.527    3.514    1.599    5.046  ]\n",
            " [14.7     14.21     0.9153   5.516    3.466    1.767    4.649  ]\n",
            " [14.375   14.28     0.87515  5.226    3.049    4.102    4.914  ]\n",
            " [14.16    14.28     0.8584   5.516    3.129    3.072    5.176  ]\n",
            " [14.11    14.26     0.8722   5.516    3.259    2.688    5.219  ]\n",
            " [15.88    14.9      0.8988   5.618    3.507    0.7651   5.091  ]\n",
            " [12.08    13.23     0.8664   5.099    2.936    1.415    5.226  ]\n",
            " [14.375   14.76     0.8657   5.789    3.245    1.791    5.001  ]\n",
            " [16.19    14.28     0.8849   5.833    3.421    0.903    5.307  ]\n",
            " [13.02    13.76     0.8641   5.516    3.026    3.373    4.825  ]\n",
            " [14.375   14.28     0.8564   5.395    2.956    3.598    4.869  ]\n",
            " [14.11    14.18     0.882    5.541    3.259    3.598    5.226  ]\n",
            " [14.375   14.02     0.8604   5.516    3.065    3.531    5.097  ]\n",
            " [13.16    13.82     0.8662   5.516    2.975    0.8551   5.056  ]\n",
            " [15.49    14.28     0.8724   5.757    3.371    3.412    5.228  ]\n",
            " [14.09    14.41     0.8529   5.717    3.186    3.92     5.299  ]\n",
            " [13.94    14.17     0.87515  5.585    3.15     3.598    5.012  ]\n",
            " [15.05    14.68     0.8779   5.712    3.328    3.598    5.226  ]\n",
            " [16.12    15.       0.87515  5.709    3.485    2.27     5.443  ]\n",
            " [16.2     14.28     0.8734   5.826    3.464    2.823    5.527  ]\n",
            " [17.08    15.38     0.9079   5.832    3.683    2.956    5.484  ]\n",
            " [14.8     14.52     0.8823   5.656    3.288    3.112    5.309  ]\n",
            " [14.28    14.17     0.8944   5.516    3.298    6.685    5.001  ]\n",
            " [13.54    13.85     0.8871   5.516    3.156    2.587    5.178  ]\n",
            " [14.375   13.85     0.8852   5.351    3.158    2.249    5.176  ]\n",
            " [13.16    13.55     0.9009   5.138    3.259    2.461    4.783  ]\n",
            " [14.375   14.86     0.882    5.516    3.259    4.711    5.226  ]\n",
            " [14.375   14.28     0.8986   5.579    3.462    3.128    5.226  ]\n",
            " [14.375   14.04     0.8794   5.376    3.155    1.56     4.961  ]\n",
            " [15.36    14.76     0.8861   5.516    3.393    3.598    5.132  ]\n",
            " [14.99    14.56     0.8883   5.57     3.259    2.958    5.175  ]\n",
            " [14.79    14.52     0.8819   5.516    3.291    2.704    5.226  ]\n",
            " [14.86    14.67     0.8676   5.516    3.258    2.129    5.351  ]]\n"
          ]
        }
      ]
    }
  ]
}